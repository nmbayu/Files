{
  "cells": [
    {
      "cell_type": "markdown",
      "metadata": {
        "id": "view-in-github",
        "colab_type": "text"
      },
      "source": [
        "<a href=\"https://colab.research.google.com/github/nmbayu/Files/blob/main/nmbayu_pj_1.ipynb\" target=\"_parent\"><img src=\"https://colab.research.google.com/assets/colab-badge.svg\" alt=\"Open In Colab\"/></a>"
      ]
    },
    {
      "cell_type": "code",
      "execution_count": null,
      "id": "cbeb4207",
      "metadata": {
        "id": "cbeb4207"
      },
      "outputs": [],
      "source": [
        "import numpy as np"
      ]
    },
    {
      "cell_type": "code",
      "source": [
        "def calculate(list):\n",
        "    if(len(list) != 9):\n",
        "      raise ValueError(\"List must contain nine numbers\")\n",
        "\n",
        "    Is = np.array(list)\n",
        "    print(Is)\n",
        "    mean_rows = [Is[[0,1,2]].mean(), Is[[3,4,5]]. mean(), Is[[6,7,8]].mean()]\n",
        "    mean_columns = ([Is[[0,3,6]].mean(), Is[[1,4,7]].mean(), Is[[2,5,8]].mean()])\n",
        "\n",
        "    var_rows = [Is[[0,1,2]].var(), Is[[3,4,5]].var()]\n",
        "    var_columns = ([Is[[0,3,6]].var(), Is[[1,4,7]].var(), Is[[2,5,8]].var()])\n",
        "\n",
        "    std_rows = [Is[[0,1,2]].std(), Is[[3,4,5]].std()]\n",
        "    std_columns = ([Is[[0,3,6]].std(), Is[[1,4,7]].std(), Is[[2,5,8]].std()])\n",
        "\n",
        "    max_rows = [Is[[0,1,2]].max(), Is[[3,4,5]].max()]\n",
        "    max_columns = ([Is[[0,3,6]].max(), Is[[1,4,7]].max(), Is[[2,5,8]].max()])\n",
        "\n",
        "    min_rows = [Is[[0,1,2]].min(), Is[[3,4,5]].min()]\n",
        "    min_columns = ([Is[[0,3,6]].min(), Is[[1,4,7]].min(), Is[[2,5,8]].min()])\n",
        "\n",
        "    sum_rows = [Is[[0,1,2]].sum(), Is[[3,4,5]].sum()]\n",
        "    sum_columns = ([Is[[0,3,6]].sum(), Is[[1,4,7]].sum(), Is[[2,5,8]].sum()])\n",
        "\n",
        "    return {\n",
        "      'mean': [mean_columns, mean_rows, Is.mean()],\n",
        "      'variance': [var_columns, var_rows, Is.var()],\n",
        "      \"standard deviation\": [std_columns, std_rows, Is.std()],\n",
        "      \"max\": [max_columns, max_rows, Is.max()],\n",
        "      \"min\": [min_columns, min_rows, Is.min()],\n",
        "      \"sum\": [sum_columns, sum_rows, Is.sum()]\n",
        "\n",
        "    }"
      ],
      "metadata": {
        "id": "FerUnE05IfTV"
      },
      "id": "FerUnE05IfTV",
      "execution_count": null,
      "outputs": []
    }
  ],
  "metadata": {
    "kernelspec": {
      "display_name": "Python 3 (ipykernel)",
      "language": "python",
      "name": "python3"
    },
    "language_info": {
      "codemirror_mode": {
        "name": "ipython",
        "version": 3
      },
      "file_extension": ".py",
      "mimetype": "text/x-python",
      "name": "python",
      "nbconvert_exporter": "python",
      "pygments_lexer": "ipython3",
      "version": "3.11.5"
    },
    "colab": {
      "provenance": [],
      "toc_visible": true,
      "include_colab_link": true
    }
  },
  "nbformat": 4,
  "nbformat_minor": 5
}